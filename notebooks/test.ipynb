{
 "cells": [
  {
   "cell_type": "code",
   "execution_count": 5,
   "metadata": {
    "collapsed": true
   },
   "outputs": [],
   "source": [
    "import pandas as pd"
   ]
  },
  {
   "cell_type": "code",
   "execution_count": 7,
   "outputs": [
    {
     "name": "stdout",
     "output_type": "stream",
     "text": [
      "5\n"
     ]
    }
   ],
   "source": [
    "print(2+3)"
   ],
   "metadata": {
    "collapsed": false
   }
  },
  {
   "cell_type": "code",
   "execution_count": 8,
   "outputs": [
    {
     "data": {
      "text/plain": "5"
     },
     "execution_count": 8,
     "metadata": {},
     "output_type": "execute_result"
    }
   ],
   "source": [
    "3 + 2"
   ],
   "metadata": {
    "collapsed": false
   }
  },
  {
   "cell_type": "code",
   "execution_count": 9,
   "outputs": [
    {
     "data": {
      "text/plain": "               title                                               plot\n0         День труда  Маленькая семья, оставшаяся без отца, приютила...\n1  Глаза моей матери  Жестокий фильм американский ужасов, снятый в ч...\n2            Аритмия  Молодой врач скорой помощи проходит через проб...\n3       Все по новой  Один приятель устраивает себе и другому прияте...\n4          Грейхаунд  Фильм, посвященный второй мировой войне, изоби...",
      "text/html": "<div>\n<style scoped>\n    .dataframe tbody tr th:only-of-type {\n        vertical-align: middle;\n    }\n\n    .dataframe tbody tr th {\n        vertical-align: top;\n    }\n\n    .dataframe thead th {\n        text-align: right;\n    }\n</style>\n<table border=\"1\" class=\"dataframe\">\n  <thead>\n    <tr style=\"text-align: right;\">\n      <th></th>\n      <th>title</th>\n      <th>plot</th>\n    </tr>\n  </thead>\n  <tbody>\n    <tr>\n      <th>0</th>\n      <td>День труда</td>\n      <td>Маленькая семья, оставшаяся без отца, приютила...</td>\n    </tr>\n    <tr>\n      <th>1</th>\n      <td>Глаза моей матери</td>\n      <td>Жестокий фильм американский ужасов, снятый в ч...</td>\n    </tr>\n    <tr>\n      <th>2</th>\n      <td>Аритмия</td>\n      <td>Молодой врач скорой помощи проходит через проб...</td>\n    </tr>\n    <tr>\n      <th>3</th>\n      <td>Все по новой</td>\n      <td>Один приятель устраивает себе и другому прияте...</td>\n    </tr>\n    <tr>\n      <th>4</th>\n      <td>Грейхаунд</td>\n      <td>Фильм, посвященный второй мировой войне, изоби...</td>\n    </tr>\n  </tbody>\n</table>\n</div>"
     },
     "execution_count": 9,
     "metadata": {},
     "output_type": "execute_result"
    }
   ],
   "source": [
    "df = pd.read_csv('../dataset_rus/title2plot.csv')\n",
    "df.head()"
   ],
   "metadata": {
    "collapsed": false
   }
  }
 ],
 "metadata": {
  "kernelspec": {
   "display_name": "Python 3",
   "language": "python",
   "name": "python3"
  },
  "language_info": {
   "codemirror_mode": {
    "name": "ipython",
    "version": 2
   },
   "file_extension": ".py",
   "mimetype": "text/x-python",
   "name": "python",
   "nbconvert_exporter": "python",
   "pygments_lexer": "ipython2",
   "version": "2.7.6"
  }
 },
 "nbformat": 4,
 "nbformat_minor": 0
}
